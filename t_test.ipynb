{
 "cells": [
  {
   "cell_type": "markdown",
   "metadata": {},
   "source": [
    "## T Test"
   ]
  },
  {
   "cell_type": "code",
   "execution_count": 1,
   "metadata": {},
   "outputs": [],
   "source": [
    "import pandas as pd\n",
    "import seaborn as sns\n",
    "import numpy as np\n",
    "import re\n",
    "from collections import OrderedDict\n",
    "import matplotlib.pyplot as plt\n",
    "\n",
    "\n",
    "import plotly.plotly as py\n",
    "import plotly.graph_objs as go\n",
    "from plotly.tools import FigureFactory as FF\n",
    "\n",
    "import numpy as np\n",
    "import pandas as pd\n",
    "import scipy"
   ]
  },
  {
   "cell_type": "code",
   "execution_count": 2,
   "metadata": {},
   "outputs": [
    {
     "name": "stdout",
     "output_type": "stream",
     "text": [
      "(1256, 7)\n",
      "(1254, 7)\n"
     ]
    }
   ],
   "source": [
    "data = pd.read_excel(\"data.xlsx\", usecols = [0,1,2,3,4])\n",
    "data = data.dropna()\n",
    "data['heard_pitch'] = data['heard_pitch'].str.replace('[0-9 ]+', \"\")\n",
    "# Convert the pitch heights into numbers to compute the difference \n",
    "\n",
    "pitch_dict = {\n",
    "      'c':0, 'c#':1, 'db':1, 'd':2, 'd#':3, 'eb':3, 'e':4, 'fb':4, 'f':5, 'e#':5, 'f#':6, 'gb':6, 'g':5, 'g#':4, 'ab':4, 'a':3, 'a#':2, 'bb':2, 'b':1, 'cb':1, 'b#':0}\n",
    "\n",
    "def pitch_to_int(x):\n",
    "    if x in pitch_dict.keys():\n",
    "        return pitch_dict[x]\n",
    "    else:\n",
    "#        print(x)\n",
    "        return np.NaN\n",
    "\n",
    "dataT = data.copy()\n",
    "dataT['heard_pitch'] = dataT['heard_pitch'].apply(lambda x : pitch_to_int(x))\n",
    "dataT['answered_pitch'] = dataT['answered_pitch'].apply(lambda x : pitch_to_int(x))\n",
    "\n",
    "# compute the diff and abs diff\n",
    "\n",
    "dataT['diff'] = dataT['heard_pitch'] - dataT['answered_pitch']\n",
    "dataT['abs_diff'] = abs(dataT['heard_pitch'] - dataT['answered_pitch'])\n",
    "dataT.head()\n",
    "\n",
    "print(dataT.shape)\n",
    "dataT = dataT.dropna()\n",
    "print(dataT.shape)"
   ]
  },
  {
   "cell_type": "markdown",
   "metadata": {},
   "source": [
    "#### T test :\n",
    "A One Sample T-Test is a statistical test used to evaluate the null hypothesis. To begin, we assume that our null hypothesis is true. Then we compute the p-value, and if it is smaller or equal to $\\alpha$, the null hypthesis is rejected.\n",
    "\n",
    "$\\alpha$ is the signifiance level (0.01, 0.05 or 0.10), which is the probability of makingna Type I error.* \n",
    "\n",
    "#### Null hypothesis : \n",
    "$H_{0}$ : The musicians answer by chance, with a mean error bigger than 3 ($\\mu = 3$).\n",
    "\n",
    "#### Alternative hypothesis : \n",
    "$H_{a}$ : The musicians answer mostly accurately, with a mean error lower than 3.\n",
    "\n",
    "#### T value : \n",
    "\n",
    "$t = \\frac{\\bar{x} - \\mu}{\\sigma / \\sqrt{n}}$\n",
    "\n",
    "where $\\bar{x}$ is the sample mean, $\\sigma$ the population standard deviation and $n$ the sample size.\n",
    "\n",
    "*A type I error (or error of the first kind) is the incorrect rejection of a true null hypothesis. A type II error (or error of the second kind) is the failure to reject a false null hypothesis.\n"
   ]
  },
  {
   "cell_type": "code",
   "execution_count": 3,
   "metadata": {},
   "outputs": [],
   "source": [
    "#dataT.groupby('ID')['abs_diff'].mean().tolist()"
   ]
  },
  {
   "cell_type": "code",
   "execution_count": 4,
   "metadata": {},
   "outputs": [
    {
     "name": "stderr",
     "output_type": "stream",
     "text": [
      "/Users/Albane/anaconda2/lib/python2.7/site-packages/plotly/tools.py:1491: UserWarning:\n",
      "\n",
      "plotly.tools.FigureFactory.create_table is deprecated. Use plotly.figure_factory.create_table\n",
      "\n"
     ]
    },
    {
     "data": {
      "text/html": [
       "<iframe id=\"igraph\" scrolling=\"no\" style=\"border:none;\" seamless=\"seamless\" src=\"https://plot.ly/~albanemimosa/4.embed\" height=\"110px\" width=\"100%\"></iframe>"
      ],
      "text/plain": [
       "<plotly.tools.PlotlyDisplay object>"
      ]
     },
     "execution_count": 4,
     "metadata": {},
     "output_type": "execute_result"
    }
   ],
   "source": [
    "\n",
    "true_mu = 3\n",
    "\n",
    "onesample_results = scipy.stats.ttest_1samp(dataT.groupby('ID')['abs_diff'].mean().tolist(), true_mu)\n",
    "\n",
    "matrix_onesample = [\n",
    "    ['', 'Test Statistic', 'p-value'],\n",
    "    ['Sample Data', onesample_results[0], onesample_results[1]]\n",
    "]\n",
    "\n",
    "onesample_table = FF.create_table(matrix_onesample, index=True)\n",
    "py.iplot(onesample_table, filename='onesample-table')"
   ]
  },
  {
   "cell_type": "code",
   "execution_count": 5,
   "metadata": {},
   "outputs": [
    {
     "data": {
      "text/plain": [
       "Ttest_1sampResult(statistic=-13.285338673936817, pvalue=3.1048411855410059e-15)"
      ]
     },
     "execution_count": 5,
     "metadata": {},
     "output_type": "execute_result"
    }
   ],
   "source": [
    "onesample_results"
   ]
  },
  {
   "cell_type": "code",
   "execution_count": 7,
   "metadata": {},
   "outputs": [
    {
     "data": {
      "text/plain": [
       "-21.093776443115154"
      ]
     },
     "execution_count": 7,
     "metadata": {},
     "output_type": "execute_result"
    }
   ],
   "source": [
    "#sample = dataT.abs_diff.values\n",
    "\n",
    "sample = dataT[dataT.timbre == 'piano'].abs_diff.values\n",
    "x_bar = sample.mean()\n",
    "sigma = sample.std()\n",
    "n = sample.size\n",
    "t = ((x_bar - true_mu) / (sigma / np.sqrt(n)))\n",
    "t"
   ]
  },
  {
   "cell_type": "markdown",
   "metadata": {},
   "source": [
    "### Two sample T-test\n",
    "\n",
    "sample 1 : string instr\n",
    "sample 2 : others\n",
    "\n",
    "#### Null hypothesis : \n",
    "The two group make equal performances \n",
    "\n",
    "\n",
    "\n",
    "The t statistic to test whether the means are different can be calculated as follows:\n",
    "\n",
    "$ t={\\frac {{\\bar {X}}_{1}-{\\bar {X}}_{2}}{s_{p}{\\sqrt {\\frac {2}{n}}}}}$\n",
    "where\n",
    "$s_{p}={\\sqrt {\\frac {s_{X_{1}}^{2}+s_{X_{2}}^{2}}{2}}}$"
   ]
  },
  {
   "cell_type": "code",
   "execution_count": 9,
   "metadata": {},
   "outputs": [
    {
     "data": {
      "text/plain": [
       "Index([            u'ID',     u'Instrument',         u'timbre',\n",
       "          u'heard_pitch', u'answered_pitch',           u'diff',\n",
       "             u'abs_diff'],\n",
       "      dtype='object')"
      ]
     },
     "execution_count": 9,
     "metadata": {},
     "output_type": "execute_result"
    }
   ],
   "source": [
    "dataT.columns"
   ]
  },
  {
   "cell_type": "code",
   "execution_count": 24,
   "metadata": {},
   "outputs": [
    {
     "name": "stdout",
     "output_type": "stream",
     "text": [
      "(16, 16)\n"
     ]
    }
   ],
   "source": [
    "instr_dict = { 'piano' : 'percussion', 'batterie' : 'percussion',  \n",
    "              'violon' : 'string', 'alto' : 'string', 'violoncelle' : 'string', 'guitare' : 'string',\n",
    "              'contrebasse':'string', 'basse':'string',\n",
    "              'trompette' : 'wind', 'trombone' : 'wind', 'saxophone' : 'wind', 'hautbois' : 'wind', \n",
    "              'clarinette' : 'wind', 'cor' : 'wind', 'flute':'wind', 'chant':'wind'\n",
    "} # j'ai mis 'chant' dans 'wind'...\n",
    "\n",
    "def instr_to_class(x):\n",
    "    if x in instr_dict.keys():\n",
    "        return instr_dict[x]\n",
    "    else:\n",
    "        #print(x)\n",
    "        return np.NaN\n",
    "\n",
    "dataT['instr_class'] = dataT['Instrument'].apply(lambda x : instr_to_class(x))\n",
    "a = dataT[dataT.instr_class == 'string'].groupby('ID')['abs_diff'].mean().tolist()\n",
    "b = dataT[dataT.instr_class != 'string'].groupby('ID')['abs_diff'].mean().tolist()\n",
    "b = b[2:18]\n",
    "print(len(a), len(b))"
   ]
  },
  {
   "cell_type": "code",
   "execution_count": 25,
   "metadata": {},
   "outputs": [
    {
     "data": {
      "text/plain": [
       "Ttest_relResult(statistic=-2.4135392364772894, pvalue=0.029045491989680212)"
      ]
     },
     "execution_count": 25,
     "metadata": {},
     "output_type": "execute_result"
    }
   ],
   "source": [
    "scipy.stats.ttest_rel(a, b)"
   ]
  },
  {
   "cell_type": "markdown",
   "metadata": {},
   "source": [
    "### Two sample T-test\n",
    "\n",
    "sample 1 : not quantified \n",
    "sample 2 : quantified\n",
    "\n",
    "#### Null Hypothesis :\n",
    "$H_{0}$ = $\\mu_{1} = \\mu_{2}$\n",
    "\n",
    "#### Alternative Hypothesis :\n",
    "$H_{a}$ = $\\mu_{1} ≠ \\mu_{2}$\n",
    "\n"
   ]
  },
  {
   "cell_type": "code",
   "execution_count": 57,
   "metadata": {},
   "outputs": [
    {
     "name": "stdout",
     "output_type": "stream",
     "text": [
      "(15, 15)\n"
     ]
    }
   ],
   "source": [
    "quant_dict = { 'piano' : 1, 'batterie' : 0,  \n",
    "              'violon' : 0, 'alto' : 0, 'violoncelle' : 0, 'guitare' : 1,\n",
    "              'contrebasse':0, 'basse':1,\n",
    "              'trompette' : 1, 'trombone' : 0, 'saxophone' : 1, 'hautbois' : 1, \n",
    "              'clarinette' : 1, 'cor' : 1, 'flute':1, 'chant':0\n",
    "}\n",
    "\n",
    "def instr_to_quant(x):\n",
    "    if x in quant_dict.keys():\n",
    "        return quant_dict[x]\n",
    "    else:\n",
    "        #print(x)\n",
    "        return np.NaN\n",
    "\n",
    "dataT['instr_quant'] = dataT['Instrument'].apply(lambda x : instr_to_quant(x))\n",
    "\n",
    "a = dataT[dataT.instr_quant == 0].groupby('ID')['abs_diff'].mean().tolist() # not quantified\n",
    "b = dataT[dataT.instr_quant == 1].groupby('ID')['abs_diff'].mean().tolist() # quantified \n",
    "b = b[:15]\n",
    "print(len(a), len(b))"
   ]
  },
  {
   "cell_type": "code",
   "execution_count": 58,
   "metadata": {},
   "outputs": [
    {
     "data": {
      "text/plain": [
       "Ttest_relResult(statistic=-2.1436878051609054, pvalue=0.050102364509487213)"
      ]
     },
     "execution_count": 58,
     "metadata": {},
     "output_type": "execute_result"
    }
   ],
   "source": [
    "scipy.stats.ttest_rel(a, b)"
   ]
  },
  {
   "cell_type": "code",
   "execution_count": 54,
   "metadata": {},
   "outputs": [
    {
     "name": "stdout",
     "output_type": "stream",
     "text": [
      "((244, 9), (174, 9))\n"
     ]
    }
   ],
   "source": [
    "zero_sample = dataT[dataT.abs_diff == 0]\n",
    "print(zero_sample[zero_sample.instr_quant == 0].shape,\n",
    "zero_sample[zero_sample.instr_quant == 1].shape)"
   ]
  },
  {
   "cell_type": "code",
   "execution_count": 61,
   "metadata": {},
   "outputs": [
    {
     "name": "stdout",
     "output_type": "stream",
     "text": [
      "(6, 6)\n"
     ]
    },
    {
     "data": {
      "text/plain": [
       "Ttest_relResult(statistic=-1.0252091820073903, pvalue=0.35228077479440489)"
      ]
     },
     "execution_count": 61,
     "metadata": {},
     "output_type": "execute_result"
    }
   ],
   "source": [
    "#fretless vs fretted string\n",
    "a = dataT[(dataT.instr_quant == 0) & (dataT.instr_class == 'string')].groupby('ID')['abs_diff'].mean().tolist() # not quantified\n",
    "b = dataT[(dataT.instr_quant == 1) & (dataT.instr_class == 'string')].groupby('ID')['abs_diff'].mean().tolist() # quantified \n",
    "a = a[:6]\n",
    "b = b[:15]\n",
    "print(len(a), len(b))\n",
    "scipy.stats.ttest_rel(a, b)\n",
    "\n",
    "# t* = 4,032"
   ]
  },
  {
   "cell_type": "markdown",
   "metadata": {},
   "source": [
    "t\\* = 4.032\n",
    "So we have $-t* < t < t*$ so we have to accept H0"
   ]
  },
  {
   "cell_type": "code",
   "execution_count": 65,
   "metadata": {},
   "outputs": [
    {
     "name": "stdout",
     "output_type": "stream",
     "text": [
      "(2, 2)\n"
     ]
    },
    {
     "data": {
      "text/plain": [
       "Ttest_relResult(statistic=0.034482758620690002, pvalue=0.97805628876797779)"
      ]
     },
     "execution_count": 65,
     "metadata": {},
     "output_type": "execute_result"
    }
   ],
   "source": [
    "# tuned vs untuned percussions\n",
    "a = dataT[(dataT.instr_quant == 0) & (dataT.instr_class == 'percussion')].groupby('ID')['abs_diff'].mean().tolist() # not quantified\n",
    "b = dataT[(dataT.instr_quant == 1) & (dataT.instr_class == 'percussion')].groupby('ID')['abs_diff'].mean().tolist() # quantified \n",
    "b = b[:2]\n",
    "print(len(a), len(b))\n",
    "scipy.stats.ttest_rel(a, b)\n",
    "\n",
    "#t* = 9,925"
   ]
  },
  {
   "cell_type": "markdown",
   "metadata": {},
   "source": [
    "t\\* = 9.925\n",
    "So we have $-t* < t < t*$ so we have to accept H0"
   ]
  },
  {
   "cell_type": "code",
   "execution_count": null,
   "metadata": {},
   "outputs": [],
   "source": []
  }
 ],
 "metadata": {
  "kernelspec": {
   "display_name": "Python 2",
   "language": "python",
   "name": "python2"
  },
  "language_info": {
   "codemirror_mode": {
    "name": "ipython",
    "version": 2
   },
   "file_extension": ".py",
   "mimetype": "text/x-python",
   "name": "python",
   "nbconvert_exporter": "python",
   "pygments_lexer": "ipython2",
   "version": "2.7.14"
  }
 },
 "nbformat": 4,
 "nbformat_minor": 2
}
